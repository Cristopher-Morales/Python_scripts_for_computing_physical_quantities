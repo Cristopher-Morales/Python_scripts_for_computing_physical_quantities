{
 "cells": [
  {
   "cell_type": "markdown",
   "id": "7123f04c-cac8-45cf-8ecf-7c41c4846434",
   "metadata": {},
   "source": [
    "# Code for getting surface total pressure  from .csv files obtained from Paraview"
   ]
  },
  {
   "cell_type": "code",
   "execution_count": 1,
   "id": "aa0373d2-4360-4231-989a-ca07fb240591",
   "metadata": {},
   "outputs": [],
   "source": [
    "import os #library imported in order to read file in a specific location/folder\n",
    "from csv import reader         # for reading csv files\n",
    "from csv import writer         # for writing csv files\n",
    "import numpy as np             # for mathematical operations\n",
    "import pandas as pd            # for reading csv files\n",
    "import shutil                  # for moving file to other directories"
   ]
  },
  {
   "cell_type": "markdown",
   "id": "f9b980d7-977a-4843-8fca-bba1e8a71001",
   "metadata": {},
   "source": [
    "    Function for getting float number from string "
   ]
  },
  {
   "cell_type": "code",
   "execution_count": 2,
   "id": "2a03e9f2-3b23-4a51-9a8f-6f454953711d",
   "metadata": {},
   "outputs": [],
   "source": [
    "def get_position(string):\n",
    "    if string[0]=='-':\n",
    "        num=float(string)/(10**(len(string)-1))\n",
    "    else: \n",
    "        num=float(string)/(10**len(string))\n",
    "    return num"
   ]
  },
  {
   "cell_type": "markdown",
   "id": "cfd9c44d-a6ab-4f8c-8291-380006f33c75",
   "metadata": {},
   "source": [
    "    Function for sorting pair (x,y) values"
   ]
  },
  {
   "cell_type": "code",
   "execution_count": 3,
   "id": "fcba1e1e-1884-433f-8910-b79d6096f5ca",
   "metadata": {},
   "outputs": [],
   "source": [
    "def sort(x,y):\n",
    "    for i in range(x.size):\n",
    "         for j in range(i + 1, x.size):\n",
    "             if x[i] >x[j]:\n",
    "                x[i], x[j] = x[j], x[i]\n",
    "                y[i], y[j] = y[j], y[i]"
   ]
  },
  {
   "cell_type": "markdown",
   "id": "1fd9b802-16fe-4adf-83a7-9f5d59a43f04",
   "metadata": {},
   "source": [
    "    Function for getting pressure data for different kenics mixer configurations"
   ]
  },
  {
   "cell_type": "code",
   "execution_count": 4,
   "id": "5cacb11d-4562-4227-9103-354ca78784e3",
   "metadata": {},
   "outputs": [],
   "source": [
    "def getting_pressure_data(case):\n",
    "    names =[]\n",
    "    for folders in os.listdir('/home/cristopher/Desktop/Documentation/new_results/simulation_'+case+'/pressure'):# this is done for counting the number of Matlab files\n",
    "        x= str(folders)\n",
    "        names.append(x)\n",
    "    print(names)\n",
    "    for name in names:\n",
    "        print(name)\n",
    "        p=0\n",
    "        with open('/home/cristopher/Desktop/Documentation/new_results/pressure/pressure_results_'+name.split('_pressure')[0]+'_1.csv', 'w', newline='\\n') as write_obj:\n",
    "            for files in os.listdir('/home/cristopher/Desktop/Documentation/new_results/simulation_'+case+'/pressure/'+name):\n",
    "                if files!='.ipynb_checkpoints':\n",
    "                    print(files)\n",
    "                    df=pd.read_csv('/home/cristopher/Desktop/Documentation/new_results/simulation_'+case+'/pressure/'+name+'/'+files,header=None).values\n",
    "                    for i in range(0,df.shape[1]):\n",
    "                        if df[0,i]=='Surface_Total_Pressure':\n",
    "                            writer(write_obj).writerow([float(files.split('_')[1].split('.csv')[0]),df[1,i]])\n",
    "        x=pd.read_csv('/home/cristopher/Desktop/Documentation/new_results/pressure/pressure_results_'+name.split('_pressure')[0]+'_1.csv',header=None).values[:,0]\n",
    "        y=pd.read_csv('/home/cristopher/Desktop/Documentation/new_results/pressure/pressure_results_'+name.split('_pressure')[0]+'_1.csv',header=None).values[:,1]\n",
    "        sort(x,y)\n",
    "        with open('/home/cristopher/Desktop/Documentation/new_results/pressure/pressure_results_'+name.split('_pressure')[0]+'_1.csv', 'w', newline='\\n') as write_obj:\n",
    "            for i in range(0,x.size):\n",
    "                writer(write_obj).writerow([x[i],y[i]])\n",
    "        df=pd.read_csv('/home/cristopher/Desktop/Documentation/new_results/pressure/pressure_results_'+name.split('_pressure')[0]+'_1.csv',header=None) \n",
    "        df = df.astype(float) #convert the whole array content in float numbers\n",
    "        df.to_csv('/home/cristopher/Desktop/Documentation/new_results/pressure/pressure_results_'+name.split('_pressure')[0]+'.csv',header=None,index=False) # save df to csv files which contains numerical values\n",
    "        os.remove('/home/cristopher/Desktop/Documentation/new_results/pressure/pressure_results_'+name.split('_pressure')[0]+'_1.csv') # delete csv files which contain string values "
   ]
  },
  {
   "cell_type": "code",
   "execution_count": 5,
   "id": "36bd54ee-8780-4df7-9394-eb653498f26c",
   "metadata": {
    "tags": []
   },
   "outputs": [],
   "source": [
    "getting_pressure_data('AR')"
   ]
  },
  {
   "cell_type": "markdown",
   "id": "6667d977-cee6-45e5-be37-ef9ab75b9126",
   "metadata": {},
   "source": [
    "    Function for getting surface total pressure for kenics mixer with twisted and no twisted blades"
   ]
  },
  {
   "cell_type": "code",
   "execution_count": 8,
   "id": "af1d5aa5-6aef-4c59-8769-2f749530e940",
   "metadata": {},
   "outputs": [],
   "source": [
    "def pressure_data(case):\n",
    "    names =[]\n",
    "    for folders in os.listdir('/home/cristopher/Desktop/Documentation/new_results/'+case+'/pressure'):# this is done for counting the number of Matlab files\n",
    "        x= str(folders)\n",
    "        names.append(x)\n",
    "    with open('/home/cristopher/Desktop/Documentation/new_results/pressure_results_'+case+'_1.csv', 'w', newline='\\n') as write_obj:\n",
    "        for name in names:\n",
    "            if name!='.ipynb_checkpoints':\n",
    "                df=pd.read_csv('/home/cristopher/Desktop/Documentation/new_results/'+case+'/pressure/'+name,header=None).values\n",
    "                for i in range(0,df.shape[1]):\n",
    "                    if df[0,i]=='Surface_Total_Pressure':\n",
    "                        writer(write_obj).writerow([float(name.split('_')[1].split('.csv')[0]),df[1,i]])\n",
    "    x=pd.read_csv('/home/cristopher/Desktop/Documentation/new_results/pressure_results_'+case+'_1.csv',header=None).values[:,0]\n",
    "    y=pd.read_csv('/home/cristopher/Desktop/Documentation/new_results/pressure_results_'+case+'_1.csv',header=None).values[:,1]\n",
    "    sort(x,y)\n",
    "    with open('/home/cristopher/Desktop/Documentation/new_results/pressure_results_'+case+'_1.csv', 'w', newline='\\n') as write_obj:\n",
    "        for i in range(0,x.size):\n",
    "            writer(write_obj).writerow([x[i],y[i]])\n",
    "    df=pd.read_csv('/home/cristopher/Desktop/Documentation/new_results/pressure_results_'+case+'_1.csv',header=None) \n",
    "    df = df.astype(float) #convert the whole array content in float numbers\n",
    "    df.to_csv('/home/cristopher/Desktop/Documentation/new_results/pressure_results_'+case+'.csv',header=None,index=False) # save df to csv files which contains numerical values\n",
    "    os.remove('/home/cristopher/Desktop/Documentation/new_results/pressure_results_'+case+'_1.csv') # delete csv files which contain string values"
   ]
  },
  {
   "cell_type": "markdown",
   "id": "6d236db0-e4c0-4dba-a9dd-26efb446e31e",
   "metadata": {},
   "source": [
    "    Using above function"
   ]
  },
  {
   "cell_type": "code",
   "execution_count": 6,
   "id": "bf0599b7-4c57-4d50-9ec2-1d8d75024564",
   "metadata": {},
   "outputs": [],
   "source": [
    "pressure_data('TURBULENT_NO_BLADES')"
   ]
  },
  {
   "cell_type": "markdown",
   "id": "d56d2774-9537-4573-b30e-5603fc96735e",
   "metadata": {},
   "source": [
    "    Creating similar function for validation cases "
   ]
  },
  {
   "cell_type": "code",
   "execution_count": 7,
   "id": "d2cf81fa-1185-4350-97a5-64b4d2ed0b7f",
   "metadata": {},
   "outputs": [],
   "source": [
    "def pressure_validation(case):\n",
    "    names =[]\n",
    "    for folders in os.listdir('/home/cristopher/Desktop/Documentation/Simulations/SU2_TUTORIAL_TRANSPORT_PROPERTIES/kenics_mixer_tutorial_SU2_website/'+case):# this is done for counting the number of Matlab files\n",
    "        if (folders.split('_')[0]=='velocity'):\n",
    "            x= str(folders)\n",
    "            #print(x)\n",
    "            names.append(x)\n",
    "    with open('/home/cristopher/Desktop/Documentation/new_results/pressure_results_'+case+'_1.csv', 'w', newline='\\n') as write_obj:\n",
    "        for name in names:\n",
    "            df=pd.read_csv('/home/cristopher/Desktop/Documentation/Simulations/SU2_TUTORIAL_TRANSPORT_PROPERTIES/kenics_mixer_tutorial_SU2_website/'+case+'/'+name+'/history.csv',header=None).values\n",
    "            for i in range(0,df.shape[1]):\n",
    "                if df[0,i]=='Avg_TotalPress(inlet)':\n",
    "                    p_inlet=float(df[df.shape[0]-1,i])\n",
    "                if df[0,i]=='Avg_TotalPress(outlet)':\n",
    "                    p_outlet=float(df[df.shape[0]-1,i])\n",
    "            velocity=float(name.split('_')[1]+name.split('_')[2])/10**len(name.split('_')[2])\n",
    "            writer(write_obj).writerow([velocity,p_inlet-p_outlet])\n",
    "    x=pd.read_csv('/home/cristopher/Desktop/Documentation/new_results/pressure_results_'+case+'_1.csv',header=None).values[:,0]\n",
    "    y=pd.read_csv('/home/cristopher/Desktop/Documentation/new_results/pressure_results_'+case+'_1.csv',header=None).values[:,1]\n",
    "    sort(x,y)\n",
    "    with open('/home/cristopher/Desktop/Documentation/new_results/pressure_results_'+case+'_1.csv', 'w', newline='\\n') as write_obj:\n",
    "        for i in range(0,x.size):\n",
    "            writer(write_obj).writerow([x[i],y[i]])\n",
    "    df=pd.read_csv('/home/cristopher/Desktop/Documentation/new_results/pressure_results_'+case+'_1.csv',header=None) \n",
    "    df = df.astype(float) #convert the whole array content in float numbers\n",
    "    df.to_csv('/home/cristopher/Desktop/Documentation/new_results/pressure_results_'+case+'.csv',header=None,index=False) # save df to csv files which contains numerical values\n",
    "    os.remove('/home/cristopher/Desktop/Documentation/new_results/pressure_results_'+case+'_1.csv') # delete csv files which contain string values"
   ]
  },
  {
   "cell_type": "markdown",
   "id": "4eb581b2-28f7-40aa-9274-0d26547e21da",
   "metadata": {},
   "source": [
    "    Testing above function"
   ]
  },
  {
   "cell_type": "code",
   "execution_count": 7,
   "id": "edb114da-c495-4a65-acca-2b52c5d6e543",
   "metadata": {},
   "outputs": [],
   "source": [
    "pressure_validation('VALIDATION')"
   ]
  },
  {
   "cell_type": "code",
   "execution_count": null,
   "id": "87476912-813c-4491-ab77-f74966018fc9",
   "metadata": {},
   "outputs": [],
   "source": []
  }
 ],
 "metadata": {
  "kernelspec": {
   "display_name": "Python 3 (ipykernel)",
   "language": "python",
   "name": "python3"
  },
  "language_info": {
   "codemirror_mode": {
    "name": "ipython",
    "version": 3
   },
   "file_extension": ".py",
   "mimetype": "text/x-python",
   "name": "python",
   "nbconvert_exporter": "python",
   "pygments_lexer": "ipython3",
   "version": "3.9.12"
  }
 },
 "nbformat": 4,
 "nbformat_minor": 5
}
