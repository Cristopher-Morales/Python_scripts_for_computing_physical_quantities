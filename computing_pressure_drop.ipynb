{
 "cells": [
  {
   "cell_type": "markdown",
   "id": "c3866f5d-7efa-46c4-9c90-3ef01b9637f6",
   "metadata": {},
   "source": [
    "# Code for pressure drop after adjoint design optimization from .csv file obtained from Paraview"
   ]
  },
  {
   "cell_type": "code",
   "execution_count": 2,
   "id": "d723370e-6c1d-4151-9769-ee340f4bd012",
   "metadata": {},
   "outputs": [],
   "source": [
    "import os\n",
    "import pandas as pd\n",
    "from csv import reader  # for reading csv files\n",
    "from csv import writer  # for writing csv files"
   ]
  },
  {
   "cell_type": "markdown",
   "id": "2034193d-ddb4-4dd7-a1a4-caef86e79fc1",
   "metadata": {},
   "source": [
    "    Sorting function"
   ]
  },
  {
   "cell_type": "code",
   "execution_count": 2,
   "id": "c84daec4-74ee-420b-8774-8d043e260e9a",
   "metadata": {},
   "outputs": [],
   "source": [
    "def sort(x,y):\n",
    "    for i in range(len(x)):\n",
    "         for j in range(i + 1, len(x)):\n",
    "             if x[i] >x[j]:\n",
    "                x[i], x[j] = x[j], x[i]\n",
    "                y[i], y[j] = y[j], y[i]"
   ]
  },
  {
   "cell_type": "markdown",
   "id": "2eca9714-afcc-4e48-9d50-9dba5405f9fc",
   "metadata": {},
   "source": [
    "    Computing pressure drop"
   ]
  },
  {
   "cell_type": "code",
   "execution_count": 3,
   "id": "6c252aab-3c54-4d80-8b29-1a94716261f2",
   "metadata": {},
   "outputs": [],
   "source": [
    "def compute_pressure_drop(case):\n",
    "    x_inlets = []\n",
    "    x_outlets = []\n",
    "    pressure_inlets =[]\n",
    "    pressure_outlets =[]\n",
    "    for folders in os.listdir('/home/cristopher/Desktop/Documentation/results_optimization/'+case+'/pressure'):\n",
    "        x= str(folders)\n",
    "        if (x.split(\"_\")[1]==\"inlet\"):\n",
    "            df=pd.read_csv('/home/cristopher/Desktop/Documentation/results_optimization/'+case+'/pressure/'+x,header=None).values #[1:,23]\n",
    "            for i in range(0,df.shape[1]):\n",
    "                if df[0,i]=='Surface_Total_Pressure_Inlet':\n",
    "                    x_inlets.append(int(x.split(\"_\")[2].split(\".\")[0]))\n",
    "                    pressure_inlets.append(float(df[1,int(i)]))\n",
    "        if (x.split(\"_\")[1]==\"outlet\"):\n",
    "            df=pd.read_csv('/home/cristopher/Desktop/Documentation/results_optimization/'+case+'/pressure/'+x,header=None).values #[1:,23]\n",
    "            for i in range(0,df.shape[1]):\n",
    "                if df[0,i]=='Surface_Total_Pressure_Outlet':\n",
    "                    x_outlets.append(int(x.split(\"_\")[2].split(\".\")[0]))\n",
    "                    pressure_outlets.append(float(df[1,int(i)]))               \n",
    "    sort(x_inlets,pressure_inlets)\n",
    "    sort(x_outlets,pressure_outlets)\n",
    "    pressure_drop =[]\n",
    "    with open('/home/cristopher/Desktop/Documentation/results_optimization/'+case+'/pressure_drop.csv', 'w', newline='\\n') as write_obj:\n",
    "        writer(write_obj).writerow(['Iteration','Pressure Drop'])\n",
    "        for i in range(0,len(pressure_outlets)):\n",
    "            writer(write_obj).writerow([x_outlets[i],float(pressure_inlets[i]-pressure_outlets[i])])    "
   ]
  },
  {
   "cell_type": "code",
   "execution_count": 4,
   "id": "8ef5a865-bc0f-4a3e-a3ca-540288cecac3",
   "metadata": {},
   "outputs": [],
   "source": [
    "compute_pressure_drop('kenics_mixer_optimization_two_boxes_without_edges_double_points_45_4_constraint')"
   ]
  },
  {
   "cell_type": "markdown",
   "id": "ee6473ce-4b79-46bb-b10c-cc23111a5484",
   "metadata": {},
   "source": [
    "    Computing covariance"
   ]
  },
  {
   "cell_type": "code",
   "execution_count": 5,
   "id": "89d09e79-14f0-4321-9983-279cd0b68f3d",
   "metadata": {},
   "outputs": [],
   "source": [
    "def compute_covariance(case):\n",
    "    directory = '/home/cristopher/Desktop/Documentation/Simulations/SU2_TUTORIAL_TRANSPORT_PROPERTIES/'+case+'/optimization/'\n",
    "    x_position =[]\n",
    "    covariance = []\n",
    "    for folders in os.listdir(directory):\n",
    "        x = str(folders)\n",
    "        if (x.split(\"_\")[0]==\"DSN\"):\n",
    "            df = pd.read_csv(directory+x+'/DIRECT/history.csv', header=None).values\n",
    "            for i in range(0, df.shape[1]):\n",
    "                if df[0,i]=='Avg_Species_0(outlet)':\n",
    "                    mean = float(df[df.shape[0]-1,i])\n",
    "                if df[0,i]=='Species_Variance(outlet)':\n",
    "                    variance = float(df[df.shape[0]-1,i])\n",
    "            covariance.append(float(variance/mean))\n",
    "            x_position.append(int(x.split(\"_\")[1]))\n",
    "    sort(x_position,covariance)\n",
    "    with open('/home/cristopher/Desktop/Documentation/results_optimization/'+case+'/COV.csv', 'w', newline='\\n') as write_obj:\n",
    "        writer(write_obj).writerow(['Iteration','COV'])\n",
    "        for i in range(0,len(covariance)):\n",
    "            writer(write_obj).writerow([x_position[i],float(covariance[i])]) \n",
    "    print(covariance)                   "
   ]
  },
  {
   "cell_type": "code",
   "execution_count": 1,
   "id": "448cc6ed-5859-48b6-ba7b-f3c9ec2afb19",
   "metadata": {},
   "outputs": [],
   "source": [
    "compute_covariance('kenics_mixer_optimization_two_boxes_without_edges_double_points_45_4')"
   ]
  },
  {
   "cell_type": "code",
   "execution_count": null,
   "id": "590d878a-bf28-47d6-a9b4-45facdd46614",
   "metadata": {},
   "outputs": [],
   "source": []
  }
 ],
 "metadata": {
  "kernelspec": {
   "display_name": "Python 3 (ipykernel)",
   "language": "python",
   "name": "python3"
  },
  "language_info": {
   "codemirror_mode": {
    "name": "ipython",
    "version": 3
   },
   "file_extension": ".py",
   "mimetype": "text/x-python",
   "name": "python",
   "nbconvert_exporter": "python",
   "pygments_lexer": "ipython3",
   "version": "3.9.12"
  }
 },
 "nbformat": 4,
 "nbformat_minor": 5
}
