{
 "cells": [
  {
   "cell_type": "markdown",
   "id": "af95bb69-66fa-4c9b-8f44-51f52d3b83ac",
   "metadata": {},
   "source": [
    "# Code for getting Coefficient of variation from .csv files obtained from Paraview"
   ]
  },
  {
   "cell_type": "code",
   "execution_count": 1,
   "id": "c5cae92f-f0e0-4d15-aae8-c8759f536cda",
   "metadata": {},
   "outputs": [],
   "source": [
    "import os #library imported in order to read file in a specific location/folder\n",
    "from csv import reader         # for reading csv files\n",
    "from csv import writer         # for writing csv files\n",
    "import numpy as np             # for mathematical operations\n",
    "import pandas as pd            # for reading csv files\n",
    "import shutil                  # for moving file to other directories"
   ]
  },
  {
   "cell_type": "code",
   "execution_count": 2,
   "id": "c1a1375a-e3c6-40d2-980a-7ffd5bf73365",
   "metadata": {},
   "outputs": [],
   "source": [
    "def mean_value(x):\n",
    "    sum=0\n",
    "    n=0\n",
    "    for i in range(0,x.size):\n",
    "        if x[i]>=0 and x[i]<=1.0:\n",
    "            sum=sum+x[i]\n",
    "            n=n+1\n",
    "    return sum/n"
   ]
  },
  {
   "cell_type": "code",
   "execution_count": 3,
   "id": "d08ebcd5-2c12-4e21-bd5e-f46567a5ff2b",
   "metadata": {},
   "outputs": [],
   "source": [
    "def standard_deviation(x,mean_value):\n",
    "    sum=0\n",
    "    n=0\n",
    "    for i in range(0,x.size):\n",
    "        if x[i]>=0 and x[i]<=1.0:\n",
    "            sum=sum+(x[i]-mean_value)**2\n",
    "            n=n+1\n",
    "    return np.sqrt(sum/(n-1))"
   ]
  },
  {
   "cell_type": "code",
   "execution_count": 4,
   "id": "0ef717c8-a21a-4b0a-84d1-6b734c4a702d",
   "metadata": {},
   "outputs": [],
   "source": [
    "def sort(x,y):  #sort(x,y,z,w)\n",
    "    for i in range(x.size):\n",
    "         for j in range(i + 1, x.size):\n",
    "             if x[i] >x[j]:\n",
    "                x[i], x[j] = x[j], x[i]\n",
    "                y[i], y[j] = y[j], y[i]\n",
    "                #z[i], z[j] = z[j], z[i]\n",
    "                #w[i], w[j] = w[j], w[i]"
   ]
  },
  {
   "cell_type": "code",
   "execution_count": 5,
   "id": "a511665d-6e12-4926-9d49-b7e708c0e682",
   "metadata": {},
   "outputs": [],
   "source": [
    "def getting_profile_data(case):\n",
    "    names =[]\n",
    "    for folders in os.listdir('/home/cristopher/Desktop/Documentation/new_results/simulation_'+case+'/COV'):\n",
    "        x= str(folders)\n",
    "        names.append(x)\n",
    "    for name in names:\n",
    "        p=0\n",
    "        with open('/home/cristopher/Desktop/Documentation/new_results/COV/COV_results_'+name+'_1.csv', 'w', newline='\\n') as write_obj:\n",
    "            for files in os.listdir('/home/cristopher/Desktop/Documentation/new_results/simulation_'+case+'/COV/'+name):\n",
    "                if files!='.ipynb_checkpoints':\n",
    "                    df=pd.read_csv('/home/cristopher/Desktop/Documentation/new_results/simulation_'+case+'/COV/'+name+'/'+files,header=None).values #[1:,23]\n",
    "                    for i in range(0,df.shape[1]):\n",
    "                        if df[0,i]=='COV':\n",
    "                            writer(write_obj).writerow([float(files.split('_')[1].split('.csv')[0]),df[1,i]])\n",
    "        x=pd.read_csv('/home/cristopher/Desktop/Documentation/new_results/COV/COV_results_'+name+'_1.csv',header=None).values[:,0]\n",
    "        y=pd.read_csv('/home/cristopher/Desktop/Documentation/new_results/COV/COV_results_'+name+'_1.csv',header=None).values[:,1] \n",
    "        sort(x,y) #sort(x,y,z,w)\n",
    "        with open('/home/cristopher/Desktop/Documentation/new_results/COV/COV_results_'+name+'_1.csv', 'w', newline='\\n') as write_obj:\n",
    "            for i in range(0,x.size):\n",
    "                writer(write_obj).writerow([x[i],y[i]])\n",
    "        df = pd.read_csv('/home/cristopher/Desktop/Documentation/new_results/COV/COV_results_'+name+'_1.csv',header=None)\n",
    "        df = df.astype(float) #convert the whole array content in float numbers\n",
    "        df.to_csv('/home/cristopher/Desktop/Documentation/new_results/COV/COV_results_'+name+'.csv',header=None,index=False) # save df to csv files which contains numerical values\n",
    "        os.remove('/home/cristopher/Desktop/Documentation/new_results/COV/COV_results_'+name+'_1.csv') # delete csv files which contain string values"
   ]
  },
  {
   "cell_type": "code",
   "execution_count": 13,
   "id": "532b2ff3-a98c-4cfd-a224-074c586c6a4f",
   "metadata": {},
   "outputs": [],
   "source": [
    "getting_profile_data('blade')"
   ]
  },
  {
   "cell_type": "markdown",
   "id": "0100d8f6-fc7d-41eb-b3d2-7c05e447dc07",
   "metadata": {},
   "source": [
    "COV Twisted and No Twisted"
   ]
  },
  {
   "cell_type": "code",
   "execution_count": 6,
   "id": "dc742772-8c12-469f-82ae-02d26436ae1f",
   "metadata": {},
   "outputs": [],
   "source": [
    "def COV_data(case):\n",
    "    names =[]\n",
    "    for folders in os.listdir('/home/cristopher/Desktop/Documentation/new_results/'+case+'/COV'):\n",
    "        x= str(folders)\n",
    "        names.append(x)\n",
    "    with open('/home/cristopher/Desktop/Documentation/new_results/COV_results_'+case+'_1.csv', 'w', newline='\\n') as write_obj:\n",
    "        for name in names:\n",
    "            if name!='.ipynb_checkpoints':\n",
    "                df=pd.read_csv('/home/cristopher/Desktop/Documentation/new_results/'+case+'/COV/'+name,header=None).values #[1:,23]\n",
    "                for i in range(0,df.shape[1]):\n",
    "                    if df[0,i]=='COV':\n",
    "                        writer(write_obj).writerow([float(name.split('_')[1].split('.csv')[0]),df[1,i]])\n",
    "    x=pd.read_csv('/home/cristopher/Desktop/Documentation/new_results/COV_results_'+case+'_1.csv',header=None).values[:,0]\n",
    "    y=pd.read_csv('/home/cristopher/Desktop/Documentation/new_results/COV_results_'+case+'_1.csv',header=None).values[:,1] \n",
    "    sort(x,y) #sort(x,y,z,w)\n",
    "    with open('/home/cristopher/Desktop/Documentation/new_results/COV_results_'+case+'_1.csv', 'w', newline='\\n') as write_obj:\n",
    "        for i in range(0,x.size):\n",
    "            writer(write_obj).writerow([x[i],y[i]])\n",
    "    df = pd.read_csv('/home/cristopher/Desktop/Documentation/new_results/COV_results_'+case+'_1.csv',header=None)\n",
    "    df = df.astype(float) #convert the whole array content in float numbers\n",
    "    df.to_csv('/home/cristopher/Desktop/Documentation/new_results/COV_results_'+case+'.csv',header=None,index=False) # save df to csv files which contains numerical values\n",
    "    os.remove('/home/cristopher/Desktop/Documentation/new_results/COV_results_'+case+'_1.csv') # delete csv files which contain string values"
   ]
  },
  {
   "cell_type": "code",
   "execution_count": 27,
   "id": "d573db3e-a370-4a40-80d8-a92bc08f98ff",
   "metadata": {},
   "outputs": [],
   "source": [
    "COV_data('TURBULENT_NO_TWISTED')"
   ]
  }
 ],
 "metadata": {
  "kernelspec": {
   "display_name": "Python 3 (ipykernel)",
   "language": "python",
   "name": "python3"
  },
  "language_info": {
   "codemirror_mode": {
    "name": "ipython",
    "version": 3
   },
   "file_extension": ".py",
   "mimetype": "text/x-python",
   "name": "python",
   "nbconvert_exporter": "python",
   "pygments_lexer": "ipython3",
   "version": "3.9.12"
  }
 },
 "nbformat": 4,
 "nbformat_minor": 5
}
