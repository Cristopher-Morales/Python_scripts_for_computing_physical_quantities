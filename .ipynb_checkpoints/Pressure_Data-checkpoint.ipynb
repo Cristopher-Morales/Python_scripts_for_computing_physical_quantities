{
 "cells": [
  {
   "cell_type": "markdown",
   "id": "7123f04c-cac8-45cf-8ecf-7c41c4846434",
   "metadata": {},
   "source": [
    "# Code for getting surface total pressure  from .csv files obtained from Paraview"
   ]
  },
  {
   "cell_type": "code",
   "execution_count": 1,
   "id": "aa0373d2-4360-4231-989a-ca07fb240591",
   "metadata": {},
   "outputs": [],
   "source": [
    "import os #library imported in order to read file in a specific location/folder\n",
    "from csv import reader         # for reading csv files\n",
    "from csv import writer         # for writing csv files\n",
    "import numpy as np             # for mathematical operations\n",
    "import pandas as pd            # for reading csv files\n",
    "import shutil                  # for moving file to other directories"
   ]
  },
  {
   "cell_type": "code",
   "execution_count": 2,
   "id": "2a03e9f2-3b23-4a51-9a8f-6f454953711d",
   "metadata": {},
   "outputs": [],
   "source": [
    "def get_position(string):\n",
    "    if string[0]=='-':\n",
    "        num=float(string)/(10**(len(string)-1))\n",
    "    else: \n",
    "        num=float(string)/(10**len(string))\n",
    "    return num"
   ]
  },
  {
   "cell_type": "code",
   "execution_count": 3,
   "id": "fcba1e1e-1884-433f-8910-b79d6096f5ca",
   "metadata": {},
   "outputs": [],
   "source": [
    "def sort(x,y):\n",
    "    for i in range(x.size):\n",
    "         for j in range(i + 1, x.size):\n",
    "             if x[i] >x[j]:\n",
    "                x[i], x[j] = x[j], x[i]\n",
    "                y[i], y[j] = y[j], y[i]"
   ]
  },
  {
   "cell_type": "code",
   "execution_count": 4,
   "id": "36a2df6b-5dcf-4136-aa35-b3339533f777",
   "metadata": {
    "tags": []
   },
   "outputs": [
    {
     "name": "stdout",
     "output_type": "stream",
     "text": [
      "['velocity_01']\n",
      "['velocity_01', 'velocity_001']\n",
      "['velocity_01', 'velocity_001', 'velocity_05']\n",
      "['velocity_01', 'velocity_001', 'velocity_05', 'velocity_5']\n",
      "['velocity_01', 'velocity_001', 'velocity_05', 'velocity_5', 'velocity_10']\n",
      "['velocity_01', 'velocity_001', 'velocity_05', 'velocity_5', 'velocity_10', 'velocity_1']\n",
      "['velocity_01', 'velocity_001', 'velocity_05', 'velocity_5', 'velocity_10', 'velocity_1', 'velocity_50']\n",
      "/home/cristopher/Desktop/Documentation/results/pressure_results_velocity_001_1.csv\n"
     ]
    }
   ],
   "source": [
    "names =[]\n",
    "for folders in os.listdir('/home/cristopher/Desktop/Documentation/new_results/simulation_velocity/pressure'):# this is done for counting the number of Matlab files\n",
    "    x= str(folders)\n",
    "    names.append(x)\n",
    "    print(names)\n",
    "print('/home/cristopher/Desktop/Documentation/results/pressure_results_'+names[1].split('_pressure')[0]+'_1.csv')"
   ]
  },
  {
   "cell_type": "code",
   "execution_count": 5,
   "id": "5cacb11d-4562-4227-9103-354ca78784e3",
   "metadata": {},
   "outputs": [],
   "source": [
    "def getting_pressure_data(case):\n",
    "    names =[]\n",
    "    for folders in os.listdir('/home/cristopher/Desktop/Documentation/new_results/simulation_'+case+'/pressure'):# this is done for counting the number of Matlab files\n",
    "        x= str(folders)\n",
    "        names.append(x)\n",
    "    print(names)\n",
    "    for name in names:\n",
    "        print(name)\n",
    "        p=0\n",
    "        with open('/home/cristopher/Desktop/Documentation/new_results/pressure/pressure_results_'+name.split('_pressure')[0]+'_1.csv', 'w', newline='\\n') as write_obj:\n",
    "            for files in os.listdir('/home/cristopher/Desktop/Documentation/new_results/simulation_'+case+'/pressure/'+name):\n",
    "                if files!='.ipynb_checkpoints':\n",
    "                    print(files)\n",
    "                    #if(name == 'AR_10' and files =='x_0.1455988.csv'):\n",
    "                        #continue\n",
    "                    #else:\n",
    "                    df=pd.read_csv('/home/cristopher/Desktop/Documentation/new_results/simulation_'+case+'/pressure/'+name+'/'+files,header=None).values\n",
    "                    for i in range(0,df.shape[1]):\n",
    "                        if df[0,i]=='Surface_Total_Pressure':\n",
    "                            writer(write_obj).writerow([float(files.split('_')[1].split('.csv')[0]),df[1,i]])\n",
    "        x=pd.read_csv('/home/cristopher/Desktop/Documentation/new_results/pressure/pressure_results_'+name.split('_pressure')[0]+'_1.csv',header=None).values[:,0]\n",
    "        y=pd.read_csv('/home/cristopher/Desktop/Documentation/new_results/pressure/pressure_results_'+name.split('_pressure')[0]+'_1.csv',header=None).values[:,1]\n",
    "        sort(x,y)\n",
    "        with open('/home/cristopher/Desktop/Documentation/new_results/pressure/pressure_results_'+name.split('_pressure')[0]+'_1.csv', 'w', newline='\\n') as write_obj:\n",
    "            for i in range(0,x.size):\n",
    "                writer(write_obj).writerow([x[i],y[i]])\n",
    "        df=pd.read_csv('/home/cristopher/Desktop/Documentation/new_results/pressure/pressure_results_'+name.split('_pressure')[0]+'_1.csv',header=None) \n",
    "        df = df.astype(float) #convert the whole array content in float numbers\n",
    "        df.to_csv('/home/cristopher/Desktop/Documentation/new_results/pressure/pressure_results_'+name.split('_pressure')[0]+'.csv',header=None,index=False) # save df to csv files which contains numerical values\n",
    "        os.remove('/home/cristopher/Desktop/Documentation/new_results/pressure/pressure_results_'+name.split('_pressure')[0]+'_1.csv') # delete csv files which contain string values "
   ]
  },
  {
   "cell_type": "code",
   "execution_count": 6,
   "id": "36bd54ee-8780-4df7-9394-eb653498f26c",
   "metadata": {
    "tags": []
   },
   "outputs": [
    {
     "name": "stdout",
     "output_type": "stream",
     "text": [
      "['AR_20', 'AR_10', 'AR_15']\n",
      "AR_20\n",
      "x_1e-05.csv\n",
      "x_0.02666666666666667.csv\n",
      "x_0.14666666666666667.csv\n",
      "x_0.17333333333333334.csv\n",
      "x_0.08.csv\n",
      "x_0.31999.csv\n",
      "x_0.13333333333333333.csv\n",
      "x_0.10666666666666667.csv\n",
      "x_0.16.csv\n",
      "x_0.12.csv\n",
      "x_0.09333333333333334.csv\n",
      "x_0.18666666666666668.csv\n",
      "x_0.24000000000000002.csv\n",
      "x_0.2.csv\n",
      "x_0.28.csv\n",
      "x_0.05333333333333334.csv\n",
      "AR_10\n",
      "x_0.11.csv\n",
      "x_0.04.csv\n",
      "x_0.13666666666666666.csv\n",
      "x_1e-05.csv\n",
      "x_0.06.csv\n",
      "x_0.13.csv\n",
      "x_0.10333333333333333.csv\n",
      "x_0.02.csv\n",
      "x_0.08.csv\n",
      "x_0.18000000000000002.csv\n",
      "x_0.11666666666666667.csv\n",
      "x_0.22000000000000003.csv\n",
      "x_0.09666666666666666.csv\n",
      "x_0.13333333333333333.csv\n",
      "x_0.10666666666666667.csv\n",
      "x_0.09.csv\n",
      "x_0.24.csv\n",
      "x_0.16.csv\n",
      "x_0.12333333333333334.csv\n",
      "x_0.08333333333333333.csv\n",
      "x_0.08666666666666667.csv\n",
      "x_0.09333333333333334.csv\n",
      "x_0.12666666666666668.csv\n",
      "x_0.2.csv\n",
      "x_0.11333333333333334.csv\n",
      "x_0.25999.csv\n",
      "AR_15\n",
      "x_0.18999999999999997.csv\n",
      "x_0.25.csv\n",
      "x_0.11.csv\n",
      "x_0.04.csv\n",
      "x_1e-05.csv\n",
      "x_0.105.csv\n",
      "x_0.06.csv\n",
      "x_0.28998999999999997.csv\n",
      "x_0.14500000000000002.csv\n",
      "x_0.13.csv\n",
      "x_0.02666666666666667.csv\n",
      "x_0.11499999999999999.csv\n",
      "x_0.02.csv\n",
      "x_0.21.csv\n",
      "x_0.26999999999999996.csv\n",
      "x_0.08.csv\n",
      "x_0.15.csv\n",
      "x_0.22999999999999998.csv\n",
      "x_0.125.csv\n",
      "x_0.17.csv\n",
      "x_0.14.csv\n",
      "x_0.165.csv\n",
      "x_0.135.csv\n",
      "x_0.09.csv\n",
      "x_0.16.csv\n",
      "x_0.12.csv\n",
      "x_0.095.csv\n",
      "x_0.085.csv\n",
      "x_0.05333333333333334.csv\n",
      "x_0.1.csv\n",
      "x_0.155.csv\n"
     ]
    }
   ],
   "source": [
    "getting_pressure_data('AR')"
   ]
  },
  {
   "cell_type": "markdown",
   "id": "6667d977-cee6-45e5-be37-ef9ab75b9126",
   "metadata": {},
   "source": [
    "pressure twisted and no twisted"
   ]
  },
  {
   "cell_type": "code",
   "execution_count": 6,
   "id": "af1d5aa5-6aef-4c59-8769-2f749530e940",
   "metadata": {},
   "outputs": [],
   "source": [
    "def pressure_data(case):\n",
    "    names =[]\n",
    "    for folders in os.listdir('/home/cristopher/Desktop/Documentation/new_results/'+case+'/pressure'):# this is done for counting the number of Matlab files\n",
    "        x= str(folders)\n",
    "        names.append(x)\n",
    "    with open('/home/cristopher/Desktop/Documentation/new_results/pressure_results_'+case+'_1.csv', 'w', newline='\\n') as write_obj:\n",
    "        for name in names:\n",
    "            #for files in os.listdir('/home/cristopher/Desktop/Documentation/new_results/'+case+'/pressure'):\n",
    "            if name!='.ipynb_checkpoints':\n",
    "                    #print(files)\n",
    "                df=pd.read_csv('/home/cristopher/Desktop/Documentation/new_results/'+case+'/pressure/'+name,header=None).values\n",
    "                for i in range(0,df.shape[1]):\n",
    "                    if df[0,i]=='Surface_Total_Pressure':\n",
    "                        writer(write_obj).writerow([float(name.split('_')[1].split('.csv')[0]),df[1,i]])\n",
    "    x=pd.read_csv('/home/cristopher/Desktop/Documentation/new_results/pressure_results_'+case+'_1.csv',header=None).values[:,0]\n",
    "    y=pd.read_csv('/home/cristopher/Desktop/Documentation/new_results/pressure_results_'+case+'_1.csv',header=None).values[:,1]\n",
    "    sort(x,y)\n",
    "    with open('/home/cristopher/Desktop/Documentation/new_results/pressure_results_'+case+'_1.csv', 'w', newline='\\n') as write_obj:\n",
    "        for i in range(0,x.size):\n",
    "            writer(write_obj).writerow([x[i],y[i]])\n",
    "    df=pd.read_csv('/home/cristopher/Desktop/Documentation/new_results/pressure_results_'+case+'_1.csv',header=None) \n",
    "    df = df.astype(float) #convert the whole array content in float numbers\n",
    "    df.to_csv('/home/cristopher/Desktop/Documentation/new_results/pressure_results_'+case+'.csv',header=None,index=False) # save df to csv files which contains numerical values\n",
    "    os.remove('/home/cristopher/Desktop/Documentation/new_results/pressure_results_'+case+'_1.csv') # delete csv files which contain string values"
   ]
  },
  {
   "cell_type": "code",
   "execution_count": 6,
   "id": "bf0599b7-4c57-4d50-9ec2-1d8d75024564",
   "metadata": {},
   "outputs": [],
   "source": [
    "pressure_data('TURBULENT_NO_BLADES')"
   ]
  },
  {
   "cell_type": "code",
   "execution_count": 9,
   "id": "e56c48bd-f596-4e88-8485-34bef467b3a2",
   "metadata": {
    "tags": []
   },
   "outputs": [
    {
     "name": "stdout",
     "output_type": "stream",
     "text": [
      "['x_0.2365918.csv', 'x_0.1741966.csv', 'x_0.2235928.csv', 'x_0.194995.csv', 'x_0.08320359999999999.csv', 'x_0.1897954.csv', 'x_0.1767964.csv', 'x_0.104002.csv', 'x_0.181996.csv', 'x_0.065005.csv', 'x_0.1455988.csv', 'x_0.0416068.csv', 'x_0.013009.csv', 'x_0.2027944.csv', 'x_0.2183932.csv', 'x_0.233992.csv', 'x_0.220993.csv', 'x_0.0234082.csv', 'x_1e-05.csv', 'x_0.2105938.csv', 'x_0.117001.csv', 'x_0.1351996.csv', 'x_0.1481986.csv', 'x_0.0338074.csv', 'x_0.09880239999999998.csv', 'x_0.1403992.csv', 'x_0.046806400000000005.csv', 'x_0.14299900000000001.csv', 'x_0.207994.csv', 'x_0.039007.csv', 'x_0.0026098.csv', 'x_0.1377994.csv', 'x_0.13.csv', 'x_0.11440119999999998.csv', 'x_0.2521906.csv', 'x_0.028607799999999996.csv', 'x_0.057205599999999995.csv', 'x_0.17159680000000002.csv', 'x_0.1975948.csv', 'x_0.1325998.csv', 'x_0.1637974.csv', 'x_0.2053942.csv', 'x_0.12220059999999998.csv', 'x_0.0182086.csv', 'x_0.09620259999999999.csv', 'x_0.07800399999999999.csv', 'x_0.0442066.csv', 'x_0.24699100000000002.csv', 'x_0.12740020000000002.csv', 'x_0.2417914.csv', 'x_0.1196008.csv', 'x_0.1663972.csv', 'x_0.010409199999999999.csv', 'x_0.24439119999999998.csv', 'x_0.1533982.csv', 'x_0.1793962.csv', 'x_0.1118014.csv', 'x_0.1611976.csv', 'x_0.0312076.csv', 'x_0.2573902.csv', '.ipynb_checkpoints', 'x_0.08060379999999999.csv', 'x_0.16899699999999998.csv', 'x_0.07540419999999999.csv', 'x_0.21319359999999998.csv', 'x_0.005209599999999999.csv', 'x_0.08840319999999999.csv', 'x_0.18719560000000002.csv', 'x_0.2495908.csv', 'x_0.020808399999999998.csv', 'x_0.0546058.csv', 'x_0.0858034.csv', 'x_0.06760479999999999.csv', 'x_0.23139220000000002.csv', 'x_0.21579340000000002.csv', 'x_0.09100299999999999.csv', 'x_0.007809399999999999.csv', 'x_0.0598054.csv', 'x_0.25479040000000003.csv', 'x_0.07280439999999999.csv', 'x_0.0624052.csv', 'x_0.10660179999999998.csv', 'x_0.22879239999999998.csv', 'x_0.015608799999999999.csv', 'x_0.052006000000000004.csv', 'x_0.20019459999999997.csv', 'x_0.2261926.csv', 'x_0.2391916.csv', 'x_0.0936028.csv', 'x_0.0494062.csv', 'x_0.155998.csv', 'x_0.1923952.csv', 'x_0.1507984.csv', 'x_0.1092016.csv', 'x_0.026008.csv', 'x_0.18459579999999998.csv', 'x_0.1585978.csv', 'x_0.12480039999999999.csv', 'x_0.25999.csv', 'x_0.0364072.csv', 'x_0.07020459999999999.csv', 'x_0.1014022.csv']\n"
     ]
    }
   ],
   "source": [
    "names =[]\n",
    "for folders in os.listdir('/home/cristopher/Desktop/Documentation/new_results/'+'TURBULENT'+'/pressure'):# this is done for counting the number of Matlab files\n",
    "    x= str(folders)\n",
    "    names.append(x)\n",
    "print(names)"
   ]
  },
  {
   "cell_type": "code",
   "execution_count": 6,
   "id": "d2cf81fa-1185-4350-97a5-64b4d2ed0b7f",
   "metadata": {},
   "outputs": [],
   "source": [
    "def pressure_validation(case):\n",
    "    names =[]\n",
    "    for folders in os.listdir('/home/cristopher/Desktop/Documentation/Simulations/SU2_TUTORIAL_TRANSPORT_PROPERTIES/kenics_mixer_tutorial_SU2_website/'+case):# this is done for counting the number of Matlab files\n",
    "        if (folders.split('_')[0]=='velocity'):\n",
    "            x= str(folders)\n",
    "            #print(x)\n",
    "            names.append(x)\n",
    "    with open('/home/cristopher/Desktop/Documentation/new_results/pressure_results_'+case+'_1.csv', 'w', newline='\\n') as write_obj:\n",
    "        for name in names:\n",
    "            df=pd.read_csv('/home/cristopher/Desktop/Documentation/Simulations/SU2_TUTORIAL_TRANSPORT_PROPERTIES/kenics_mixer_tutorial_SU2_website/'+case+'/'+name+'/history.csv',header=None).values\n",
    "            for i in range(0,df.shape[1]):\n",
    "                if df[0,i]=='Avg_TotalPress(inlet)':\n",
    "                    p_inlet=float(df[df.shape[0]-1,i])\n",
    "                if df[0,i]=='Avg_TotalPress(outlet)':\n",
    "                    p_outlet=float(df[df.shape[0]-1,i])\n",
    "            velocity=float(name.split('_')[1]+name.split('_')[2])/10**len(name.split('_')[2])\n",
    "            writer(write_obj).writerow([velocity,p_inlet-p_outlet])\n",
    "    x=pd.read_csv('/home/cristopher/Desktop/Documentation/new_results/pressure_results_'+case+'_1.csv',header=None).values[:,0]\n",
    "    y=pd.read_csv('/home/cristopher/Desktop/Documentation/new_results/pressure_results_'+case+'_1.csv',header=None).values[:,1]\n",
    "    sort(x,y)\n",
    "    with open('/home/cristopher/Desktop/Documentation/new_results/pressure_results_'+case+'_1.csv', 'w', newline='\\n') as write_obj:\n",
    "        for i in range(0,x.size):\n",
    "            writer(write_obj).writerow([x[i],y[i]])\n",
    "    df=pd.read_csv('/home/cristopher/Desktop/Documentation/new_results/pressure_results_'+case+'_1.csv',header=None) \n",
    "    df = df.astype(float) #convert the whole array content in float numbers\n",
    "    df.to_csv('/home/cristopher/Desktop/Documentation/new_results/pressure_results_'+case+'.csv',header=None,index=False) # save df to csv files which contains numerical values\n",
    "    os.remove('/home/cristopher/Desktop/Documentation/new_results/pressure_results_'+case+'_1.csv') # delete csv files which contain string values"
   ]
  },
  {
   "cell_type": "code",
   "execution_count": 7,
   "id": "edb114da-c495-4a65-acca-2b52c5d6e543",
   "metadata": {},
   "outputs": [],
   "source": [
    "pressure_validation('VALIDATION')"
   ]
  },
  {
   "cell_type": "code",
   "execution_count": null,
   "id": "87476912-813c-4491-ab77-f74966018fc9",
   "metadata": {},
   "outputs": [],
   "source": []
  }
 ],
 "metadata": {
  "kernelspec": {
   "display_name": "Python 3 (ipykernel)",
   "language": "python",
   "name": "python3"
  },
  "language_info": {
   "codemirror_mode": {
    "name": "ipython",
    "version": 3
   },
   "file_extension": ".py",
   "mimetype": "text/x-python",
   "name": "python",
   "nbconvert_exporter": "python",
   "pygments_lexer": "ipython3",
   "version": "3.9.12"
  }
 },
 "nbformat": 4,
 "nbformat_minor": 5
}
