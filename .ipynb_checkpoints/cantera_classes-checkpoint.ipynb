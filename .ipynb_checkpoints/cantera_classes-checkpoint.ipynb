{
 "cells": [
  {
   "cell_type": "markdown",
   "id": "2bccea9e-8186-4e8d-be0f-57c1760d8d13",
   "metadata": {},
   "source": [
    "# Computing pressure and temperature from total temperature and total pressure"
   ]
  },
  {
   "cell_type": "code",
   "execution_count": 10,
   "id": "0289ffe7-b30f-4f1c-9500-0ce2567ae935",
   "metadata": {},
   "outputs": [],
   "source": [
    "from IPython.display import display, Math, Latex"
   ]
  },
  {
   "cell_type": "markdown",
   "id": "91c62e80-4078-4677-8c02-4ab6736e8859",
   "metadata": {},
   "source": [
    "In this jupyter notebook, we are going to compute some quantities of interest using the thermochemical library Cantera. Using classes, we are going to create objects for Multicomponent and reacting flows."
   ]
  },
  {
   "cell_type": "code",
   "execution_count": 4,
   "id": "cd340011-9721-4273-b2b8-b792e9d1f856",
   "metadata": {},
   "outputs": [],
   "source": [
    "import numpy as np\n",
    "#!pip install cantera\n",
    "import matplotlib.pyplot as plt\n",
    "import cantera as ct\n",
    "#import csv\n",
    "import pandas as pd\n",
    "from csv import reader  # for reading csv files\n",
    "from csv import writer  # for writing csv files"
   ]
  },
  {
   "cell_type": "markdown",
   "id": "0a007f7f-0d8a-4067-9b92-4e6090a1f3d7",
   "metadata": {},
   "source": [
    "First we create a class for multicomponent flow, where we set the fuel, oxidizer, equivalence ratioy, and chemical mechanism as a attribute of an object.<br>\n",
    "Then, we can set the thermodynamic state using the function SetTDState at a given pressure and temperature, this return a gas with the previous properties at that specific pressure and temperature. The we can create some method in order to retrieve chemical properties such as density, heat capacity, viscosity,and others."
   ]
  },
  {
   "cell_type": "code",
   "execution_count": 5,
   "id": "d302409f-6980-4c51-b71c-dec72de17cee",
   "metadata": {},
   "outputs": [],
   "source": [
    "class MulticomponentCantera:\n",
    "    \"\"\"\n",
    "    Class for defining a Cantera object for multicomponent flows.\n",
    "\n",
    "    \"\"\"\n",
    "    \"\"\"\n",
    "    Constructor attributes:\n",
    "    - param phi: equivalence ratio\n",
    "      type phi: float\n",
    "    - param X_fuel: Dictionary that contains chemical species and its mole fraction of the fuel.\n",
    "      type X_fuel: dict()\n",
    "    - param X_oxidizer: Dictionary that contains chemical composition and mole fraction of the oxidizer.\n",
    "      type X_oxidize: dict()\n",
    "    - param chemical_mnechanism: chemical mechanism in .yaml format \n",
    "      type chemical_mnechanism: str\n",
    "    \"\"\"\n",
    "    phi=0.7\n",
    "    X_fuel={\"H2\":1.0}\n",
    "    X_oxidizer={\"O2\":1.0, \"N2\":3.76}\n",
    "    chemical_mechanism=\"h2o2.yaml\"\n",
    "\n",
    "    def __init__(self, phi, X_fuel, X_oxidizer, chemical_mechanism):\n",
    "        self.phi=phi\n",
    "        self.X_fuel=X_fuel\n",
    "        self.X_oxidizer=X_oxidizer\n",
    "        self.chemical_mechanism=chemical_mechanism\n",
    "    \"\"\"\n",
    "    Set Thermodynamic state\n",
    "    - param temperature: Temperature of the gas\n",
    "      type temperature: float\n",
    "    - param pressure_thermodynamics: operating pressure of the gas\n",
    "      type pressure_thermodynamics: float\n",
    "    - output gas: gas with the specified temperature and pressure.\n",
    "      type gas: Cantera object\n",
    "    \"\"\"\n",
    "    def SetTDState(self, temperature, pressure_thermodynamics):\n",
    "        gas = ct.Solution(self.chemical_mechanism)\n",
    "        gas.set_equivalence_ratio(self.phi,self.X_fuel,self.X_oxidizer)\n",
    "        gas.TP=temperature, pressure_thermodynamics\n",
    "\n",
    "        return gas\n",
    "    \"\"\"\n",
    "    Methods for retrieving Thermochemical properties of the gas at a given composition, temperature and thermodynamic pressure\n",
    "    - param gas: gas object at specific temperature and pressure\n",
    "      type: Cantera object\n",
    "    - method GetDensity: retrieve density of the gas mixture at a given temperature and pressure.\n",
    "      return float density\n",
    "    - method HeatCapacity: retrieve specific heat capacity at a constant pressure of the gas mixture at a given temperature \n",
    "      and composition.\n",
    "      return float HeatCapacity\n",
    "    - method GetViscosity: retrieve laminar viscosity of the gas mixture at a given temperature and composition.\n",
    "      return float viscosity\n",
    "    - method GetThermalConductivity: retrieve thermal conductivity of the gas mixture at a given temperature and composition.\n",
    "      return float viscosity\n",
    "    - method GetMassFractionComposition: retrieve species mass fractions of the gas mixture.\n",
    "      return list(float)\n",
    "    - method GetChemicalComposition: retrieve chemical composition of the gas mixture.\n",
    "      return list(str)\n",
    "    - method GetEnthalpy: retrieve total enthalpy (sensible+chemical enthalpies) of the gas mixture at a given temperature \n",
    "      and composition.\n",
    "      return float Enthalpy\n",
    "    \"\"\"\n",
    "    def GetDensity(self,gas):\n",
    "        return gas.density\n",
    "    def GetHeatCapacity(self,gas):\n",
    "        return gas.cp_mass\n",
    "    def GetViscosity(self,gas):\n",
    "        return gas.viscosity\n",
    "    def GetThermalConductivity(self,gas):\n",
    "        return gas.thermal_conductivity\n",
    "    def GetMassFractionComposition(self,gas):\n",
    "        return list(gas.mass_fraction_dict().values())\n",
    "    def GetChemicalComposition(self,gas):\n",
    "        return list(gas.mass_fraction_dict().keys())\n",
    "    def GetEnthalpy(self, gas):\n",
    "        return gas.enthalpy_mass\n"
   ]
  },
  {
   "cell_type": "code",
   "execution_count": 6,
   "id": "a191328b",
   "metadata": {},
   "outputs": [
    {
     "name": "stdout",
     "output_type": "stream",
     "text": [
      "0.9242362170821292\n",
      "1277.9100866538756\n",
      "1.8454595829335726e-05\n",
      "[0.020137986304114414, 0.7515544436281938, 0.22830757006769173]\n",
      "['H2', 'N2', 'O2']\n",
      "2402.1845860029007\n"
     ]
    }
   ],
   "source": [
    "Test = MulticomponentCantera(0.7, {\"H2\":1.0}, {\"O2\":1.0, \"N2\":3.76}, \"gri30.yaml\")\n",
    "gas=Test.SetTDState(300,101325.0)\n",
    "print(Test.GetDensity(gas))\n",
    "print(Test.GetHeatCapacity(gas))\n",
    "print(Test.GetViscosity(gas))\n",
    "print(Test.GetMassFractionComposition(gas))\n",
    "print(Test.GetChemicalComposition(gas))\n",
    "print(Test.GetEnthalpy(gas))"
   ]
  },
  {
   "cell_type": "code",
   "execution_count": 8,
   "id": "db12da66",
   "metadata": {},
   "outputs": [],
   "source": [
    "class Report(MulticomponentCantera):\n",
    "    def __init__(self, phi, X_fuel, X_oxidizer, chemical_mechanism,temperature, pressure_thermodynamics, ratios):\n",
    "        super().__init__(phi, X_fuel, X_oxidizer, chemical_mechanism)\n",
    "        self.ratios=ratios\n",
    "        self.temperature=temperature\n",
    "        self.pressure_thermodynamics=pressure_thermodynamics\n",
    "    @classmethod\n",
    "    def from_multicomponentCantera(cls, multicomponentCantera):\n",
    "        return cls(multicomponentCantera.phi, multicomponentCantera.X_fuel, multicomponentCantera.X_oxidizer,multicomponentCantera.chemical_mechanism)\n",
    "    def reportfile(self, name=None):\n",
    "        default_name='H2'\n",
    "        name = default_name if name is None else name\n",
    "        with open('Cantera_Properties_'+name+'.csv', 'w', newline='\\n') as write_obj:\n",
    "            for i in range(0,len(self.ratios)):\n",
    "                properties =[]\n",
    "                self.phi=self.ratios[i]\n",
    "                gas=MulticomponentCantera.SetTDState(self,self.temperature, self.pressure_thermodynamics)\n",
    "                density=MulticomponentCantera.GetDensity(self, gas)\n",
    "                viscosity=MulticomponentCantera.GetViscosity(self, gas)\n",
    "                thermal_conductivity=MulticomponentCantera.GetThermalConductivity(self,gas)\n",
    "                Cp=MulticomponentCantera.GetHeatCapacity(self, gas)\n",
    "                massFractions=MulticomponentCantera.GetMassFractionComposition(self,gas)\n",
    "                total_enthalpy=MulticomponentCantera.GetEnthalpy(self,gas)\n",
    "                if(i==0):\n",
    "                    properties_name=[\"phi\"]\n",
    "                    properties_name.extend(MulticomponentCantera.GetChemicalComposition(self,gas))\n",
    "                    properties_name.extend([\"density\",\"Cp\",\"viscosity\",\"thermal_conductivity\", \"total enthalpy\"])\n",
    "                    writer(write_obj).writerow(properties_name)\n",
    "                properties.append(self.phi)\n",
    "                properties.extend(massFractions)\n",
    "                properties.extend([density,Cp,viscosity,thermal_conductivity, total_enthalpy])\n",
    "                writer(write_obj).writerow(properties)"
   ]
  },
  {
   "cell_type": "code",
   "execution_count": 9,
   "id": "95c8c92b",
   "metadata": {},
   "outputs": [],
   "source": [
    "phi_ratios=[0.3,0.4,0.5,0.6,0.7,0.8]\n",
    "temperature=300.0\n",
    "pressure=101325.0\n",
    "test_report=Report(Test.phi, Test.X_fuel, Test.X_oxidizer,Test.chemical_mechanism, temperature,pressure,phi_ratios)"
   ]
  },
  {
   "cell_type": "code",
   "execution_count": 106,
   "id": "072dd119",
   "metadata": {},
   "outputs": [],
   "source": [
    "test_report.reportfile()"
   ]
  },
  {
   "cell_type": "code",
   "execution_count": 107,
   "id": "a6372bda-5522-4e1b-9f94-dc7a55c2c791",
   "metadata": {},
   "outputs": [],
   "source": [
    "Test.X_fuel = {\"CH4\":1.0}\n",
    "Test.X_oxidizer={\"O2\": 2.0, \"N2\": 7.52}"
   ]
  },
  {
   "cell_type": "code",
   "execution_count": 108,
   "id": "fdf81eca-7418-447c-aba8-7c1a84bb870e",
   "metadata": {},
   "outputs": [],
   "source": [
    "test_report=Report(Test.phi, Test.X_fuel, Test.X_oxidizer,Test.chemical_mechanism, temperature,pressure,phi_ratios)\n",
    "test_report.reportfile('CH4')"
   ]
  },
  {
   "cell_type": "code",
   "execution_count": 118,
   "id": "9df31e90-1f36-440b-9615-417d87c98801",
   "metadata": {},
   "outputs": [],
   "source": [
    "class ReactingCantera(MulticomponentCantera):\n",
    "    @classmethod\n",
    "    def from_multicomponentCantera(cls, MulticomponentCantera):\n",
    "        return cls(MulticomponentCantera.phi, MulticomponentCantera.X_fuel, MulticomponentCantera.X_oxidizer,MulticomponentCantera.chemical_mechanism)\n",
    "    def reaction(self,temperature, pressure):\n",
    "        gas=MulticomponentCantera.SetTDState(self,temperature,pressure)\n",
    "        #gas.equilibrate('TP')\n",
    "        \n",
    "        return gas\n",
    "    def getNetProductionRates(self,temperature,pressure):\n",
    "        gas=ReactingCantera.reaction(self,temperature,pressure)\n",
    "        #gas.equilibrate('TP')\n",
    "        reactionRates=[]\n",
    "        massFractions=[]\n",
    "        molecularWeights=[]\n",
    "        for i in range(0,gas.n_total_species):\n",
    "            reactionRates.append([gas.species_name(i),gas.net_production_rates[i]*gas.molecular_weights[i]])\n",
    "            massFractions.append([gas.species_name(i),gas.mass_fraction_dict().get(gas.species_name(i))])\n",
    "            molecularWeights.append([gas.species_name(i),gas.molecular_weights[i]])\n",
    "        \n",
    "        return reactionRates, massFractions, molecularWeights"
   ]
  },
  {
   "cell_type": "code",
   "execution_count": 120,
   "id": "b5a5fb01-d36b-4cc6-9268-d448fa353eb9",
   "metadata": {},
   "outputs": [],
   "source": [
    "reaction_test=ReactingCantera(Test.phi, Test.X_fuel, Test.X_oxidizer,Test.chemical_mechanism)\n",
    "reactionRates=reaction_test.getNetProductionRates(1700,101325)"
   ]
  },
  {
   "cell_type": "code",
   "execution_count": 121,
   "id": "0304acff-637d-4a25-b7c9-ae3a07ee7ffc",
   "metadata": {
    "tags": []
   },
   "outputs": [
    {
     "name": "stdout",
     "output_type": "stream",
     "text": [
      "chemical conservation: 0.0\n"
     ]
    }
   ],
   "source": [
    "conservation_check=0\n",
    "for i in range(0,len(reactionRates[0])):\n",
    "    conservation_check=+reactionRates[0][i][1]\n",
    "print(\"chemical conservation:\",conservation_check)"
   ]
  },
  {
   "cell_type": "code",
   "execution_count": 116,
   "id": "cb6384fb-7428-49d8-9505-812aa4263f4f",
   "metadata": {
    "tags": []
   },
   "outputs": [],
   "source": [
    "def reportfileReactions(temperature,reactionRates):\n",
    "    with open('Cantera_Reaction_Rates.csv', 'a', newline='\\n') as write_obj:\n",
    "        species=[\"temperature\"]\n",
    "        reactions_Rates=[temperature]\n",
    "        for i in range(0,len(reactionRates)):\n",
    "            species.append(reactionRates[i][0])\n",
    "            reactions_Rates.append(reactionRates[i][1])\n",
    "        writer(write_obj).writerow(species)\n",
    "        writer(write_obj).writerow(reactions_Rates)"
   ]
  },
  {
   "cell_type": "code",
   "execution_count": 117,
   "id": "da62de0a-b959-44b6-87ab-48aa376ac8a9",
   "metadata": {},
   "outputs": [],
   "source": [
    "temperature=[700,800,900,1000,1100,1200,1300,1400,1500,1600,1700,1800,1900,2000]\n",
    "for i in range(0,len(temperature)):\n",
    "    reportfileReactions(temperature[i],reaction_test.getNetProductionRates(temperature[i],101325)[0])   "
   ]
  },
  {
   "cell_type": "code",
   "execution_count": null,
   "id": "8b692474-c45d-41ff-af34-e7db57d27e1b",
   "metadata": {},
   "outputs": [],
   "source": []
  }
 ],
 "metadata": {
  "kernelspec": {
   "display_name": "Python 3 (ipykernel)",
   "language": "python",
   "name": "python3"
  },
  "language_info": {
   "codemirror_mode": {
    "name": "ipython",
    "version": 3
   },
   "file_extension": ".py",
   "mimetype": "text/x-python",
   "name": "python",
   "nbconvert_exporter": "python",
   "pygments_lexer": "ipython3",
   "version": "3.9.12"
  }
 },
 "nbformat": 4,
 "nbformat_minor": 5
}
