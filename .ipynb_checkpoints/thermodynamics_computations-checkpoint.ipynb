{
 "cells": [
  {
   "cell_type": "markdown",
   "id": "2bccea9e-8186-4e8d-be0f-57c1760d8d13",
   "metadata": {},
   "source": [
    "# Computing pressure and temperature from total temperature and total pressure"
   ]
  },
  {
   "cell_type": "code",
   "execution_count": 1,
   "id": "574dbfb0-1cc8-475d-aef2-59f63ef81c23",
   "metadata": {},
   "outputs": [],
   "source": [
    "import numpy as np"
   ]
  },
  {
   "cell_type": "code",
   "execution_count": 2,
   "id": "614717cc-6fe3-4695-a8fb-20b8f54b33b2",
   "metadata": {},
   "outputs": [],
   "source": [
    "def gas_constant(scalars,molecular_weight):\n",
    "    n=np.size(scalars)\n",
    "    n_w=np.size(molecular_weight)\n",
    "    universal_gas_constant=8.314\n",
    "    R=0.0\n",
    "    for i in range (0,n):\n",
    "        R+=scalars[i]/(molecular_weight[i]/1000)\n",
    "    return universal_gas_constant*R"
   ]
  },
  {
   "cell_type": "code",
   "execution_count": 3,
   "id": "4b551f10-b286-4b10-9b0f-cad7ed19772b",
   "metadata": {},
   "outputs": [],
   "source": [
    "def gamma(scalars, heat_capacities, molecular_weight):\n",
    "    n=np.size(scalars)\n",
    "    mean_heat_cp=0.0\n",
    "    for i in range (0,n):\n",
    "        mean_heat_cp+=heat_capacities[i]*scalars[i]\n",
    "    R=gas_constant(scalars,molecular_weight)\n",
    "    return mean_heat_cp/(mean_heat_cp-R)"
   ]
  },
  {
   "cell_type": "code",
   "execution_count": 4,
   "id": "0337e217-b27a-4533-9a2b-d31ec8df7953",
   "metadata": {},
   "outputs": [],
   "source": [
    "def get_Pressure_Temperature_from_Pt_Ttc_Mach(Pt,Tt,Ma,scalars,heat_capacities,molecular_weight):\n",
    "    gamma_value=gamma(scalars,heat_capacities,molecular_weight)\n",
    "    T=Tt/(1+0.5*(gamma_value-1.0)*Ma**2)\n",
    "    P=Pt/(1+0.5*gamma_value*(Ma)**2)\n",
    "    return [T,P,gamma_value]"
   ]
  },
  {
   "cell_type": "code",
   "execution_count": 5,
   "id": "baca71ef-af3e-4534-adc9-4a30410959bf",
   "metadata": {},
   "outputs": [],
   "source": [
    "def get_Pt_Tt_from_P_T(P,T,Ma,scalars,heat_capacities,molecular_weight):\n",
    "    gamma_value=gamma(scalars,heat_capacities,molecular_weight)\n",
    "    Pt=P*(1.0+0.5*gamma_value*Ma**2)\n",
    "    Tt=T*(1.0+0.5*(gamma_value-1.0)*Ma**2)\n",
    "    return [Pt,Tt,gamma_value]"
   ]
  },
  {
   "cell_type": "code",
   "execution_count": 6,
   "id": "f55a9de9-77d2-4fcb-936d-99e203e62635",
   "metadata": {},
   "outputs": [
    {
     "data": {
      "text/plain": [
       "[100641.37032291063, 300.4241109687319, 1.2827406458212605]"
      ]
     },
     "execution_count": 6,
     "metadata": {},
     "output_type": "execute_result"
    }
   ],
   "source": [
    "get_Pt_Tt_from_P_T(100000,300,0.1,[1.0,0.0],[2224,2224],[16.96,16.96])"
   ]
  },
  {
   "cell_type": "code",
   "execution_count": 7,
   "id": "1f59e859-d851-4eca-a13c-4b651c32211e",
   "metadata": {},
   "outputs": [
    {
     "data": {
      "text/plain": [
       "490.2122641509434"
      ]
     },
     "execution_count": 7,
     "metadata": {},
     "output_type": "execute_result"
    }
   ],
   "source": [
    "gas_constant([1.0,0.0],[16.96,16.96])"
   ]
  },
  {
   "cell_type": "markdown",
   "id": "af28f652-1520-467a-9d28-c6ea4f36f34d",
   "metadata": {},
   "source": [
    "# Computing beta terms for low temperatures"
   ]
  },
  {
   "cell_type": "code",
   "execution_count": 8,
   "id": "5d52d4ac-69f8-4fa2-9995-957a4860f68f",
   "metadata": {},
   "outputs": [],
   "source": [
    "#!pip install cantera\n",
    "\n",
    "import matplotlib.pyplot as plt\n",
    "import cantera as ct"
   ]
  },
  {
   "cell_type": "code",
   "execution_count": 9,
   "id": "5066fe97-2ad0-451b-af13-9ad2543fda6b",
   "metadata": {},
   "outputs": [
    {
     "name": "stdout",
     "output_type": "stream",
     "text": [
      "{'H2': 0.020137986304114414, 'N2': 0.7515544436281938, 'O2': 0.22830757006769173}\n",
      "0.020137986304114418 2402.1845860029007 0.0285223875275674 -0.6139630221363732 1277.9100866538754 0.047926520948961285\n",
      "Mixture state for mechanism h2o2.yaml\n",
      "\n",
      "  ohmech:\n",
      "\n",
      "       temperature   300 K\n",
      "          pressure   1.0133e+05 Pa\n",
      "           density   0.92424 kg/m^3\n",
      "  mean mol. weight   22.752 kg/kmol\n",
      "   phase of matter   gas\n",
      "\n",
      "                          1 kg             1 kmol     \n",
      "                     ---------------   ---------------\n",
      "          enthalpy            2402.2             54655  J\n",
      "   internal energy       -1.0723e+05       -2.4397e+06  J\n",
      "           entropy            8255.9        1.8784e+05  J/K\n",
      "    Gibbs function       -2.4744e+06       -5.6297e+07  J\n",
      " heat capacity c_p            1277.9             29075  J/K\n",
      " heat capacity c_v            912.47             20761  J/K\n",
      "\n",
      "                      mass frac. Y      mole frac. X     chem. pot. / RT\n",
      "                     ---------------   ---------------   ---------------\n",
      "                H2          0.020138           0.22727           -17.199\n",
      "                O2           0.22831           0.16234           -26.492\n",
      "                N2           0.75155           0.61039           -23.527\n",
      "     [   +7 minor]                 0                 0  \n",
      "\n",
      "None\n"
     ]
    }
   ],
   "source": [
    "#\n",
    "# Setting the state of a mixture (Method 1)\n",
    "#\n",
    "# Setup themochemical state\n",
    "T_mix = 300 # K\n",
    "p_mix = ct.one_atm \n",
    "phi_mix = 0.7 \n",
    "X_fuel = {\"H2\": 1.0} \n",
    "X_oxidizer = {\"O2\": 1.0, \"N2\": 3.76} \n",
    "\n",
    "#mechanism = \"gri30.yaml\"\n",
    "mechanism = \"h2o2.yaml\"  \n",
    "gas = ct.Solution(mechanism)\n",
    "gas.TP = T_mix, p_mix\n",
    "gas.set_equivalence_ratio(phi_mix, X_fuel, X_oxidizer, basis=\"mole\")\n",
    "Z=gas.mixture_fraction(X_fuel,X_oxidizer)\n",
    "h=gas.enthalpy_mass\n",
    "k=gas.thermal_conductivity\n",
    "cp=gas.cp\n",
    "Z_st=Z/((1-phi_mix)*Z+phi_mix)\n",
    "y_H2=gas['H2'].Y[0]\n",
    "y_N2=gas['N2'].Y[0]\n",
    "y_O2=gas['O2'].Y[0]\n",
    "progress_variable=(-7.36*y_H2)+(-2.04*y_O2)\n",
    "print(gas.mass_fraction_dict())\n",
    "print(Z,h,Z_st,progress_variable, cp, k)\n",
    "print(\"Mixture state for mechanism {}\".format(mechanism))\n",
    "print(gas())"
   ]
  },
  {
   "cell_type": "code",
   "execution_count": 10,
   "id": "128f655c-55f7-4f68-af2c-3be1514e5c27",
   "metadata": {},
   "outputs": [],
   "source": [
    "def beta_terms(T, phi):\n",
    "    T_mix = T# K\n",
    "    p_mix = ct.one_atm \n",
    "    phi_mix = phi \n",
    "    X_fuel = {\"H2\": 1.0} \n",
    "    X_oxidizer = {\"O2\": 1.0, \"N2\": 3.76} \n",
    "    #mechanism = \"gri30.yaml\"\n",
    "    mechanism = \"h2o2.yaml\"  \n",
    "    gas = ct.Solution(mechanism)\n",
    "    gas.TP = T_mix, p_mix\n",
    "    gas.set_equivalence_ratio(phi_mix, X_fuel, X_oxidizer, basis=\"mole\")\n",
    "    y_H2=gas['H2'].Y[0]\n",
    "    y_N2=gas['N2'].Y[0]\n",
    "    y_O2=gas['O2'].Y[0]\n",
    "    cp=gas.cp\n",
    "    X_H2= {\"H2\": 1.0, \"O2\": 0.0, \"N2\": 0.0}  \n",
    "    gas_H2 = ct.Solution(mechanism)\n",
    "    gas_H2.TPX = T_mix, p_mix, X_H2\n",
    "    cp_H2=gas_H2.cp\n",
    "    h_H2=gas_H2.enthalpy_mass\n",
    "    X_O2= {\"H2\": 0.0, \"O2\": 1.0, \"N2\": 0.0}  \n",
    "    gas_O2 = ct.Solution(mechanism)\n",
    "    gas_O2.TPX = T_mix, p_mix, X_O2\n",
    "    cp_O2=gas_O2.cp\n",
    "    h_O2=gas_O2.enthalpy_mass\n",
    "    X_N2= {\"H2\": 0.0, \"O2\": 0.0, \"N2\": 1.0}  \n",
    "    gas_N2 = ct.Solution(mechanism)\n",
    "    gas_N2.TPX = T_mix, p_mix, X_N2\n",
    "    cp_N2=gas_N2.cp\n",
    "    h_N2=gas_N2.enthalpy_mass\n",
    "    lewis_numbers=[0.399,1.74]\n",
    "    beta_thermal= cp-((cp_H2-cp_N2)*y_H2/lewis_numbers[0])-((cp_O2-cp_N2)*y_O2/lewis_numbers[1])\n",
    "    beta_enthalpy= ((h_H2-h_N2)*y_H2/lewis_numbers[0])+((h_O2-h_N2)*y_N2/lewis_numbers[1])    \n",
    "    return [beta_thermal,beta_enthalpy]"
   ]
  },
  {
   "cell_type": "code",
   "execution_count": 11,
   "id": "e7456ed4-2bcd-4b7e-8ed5-5755480b890a",
   "metadata": {},
   "outputs": [
    {
     "data": {
      "image/png": "[encoded data removed]",
      "text/plain": [
       "<Figure size 576x432 with 1 Axes>"
      ]
     },
     "metadata": {
      "needs_background": "light"
     },
     "output_type": "display_data"
    }
   ],
   "source": [
    "x=[]\n",
    "y=[]\n",
    "phi=0.5\n",
    "for i in range(0,41):\n",
    "    T=300+10*i\n",
    "    x.append(T)\n",
    "    y.append(beta_terms(T,phi)[0])\n",
    "plt.figure(figsize=(8,6))\n",
    "plt.rcParams['font.size'] = '16'\n",
    "plt.plot(x, y,'g*',markersize=12, label='beta thermal')#plotting predictions\n",
    "#plt.title('Adjoint design optimization') #defining titles\n",
    "plt.xlabel('Temperature [K]')             #defining x-axis scaled progress variable\n",
    "plt.ylabel('$b_{h1}$ [J/K]')       #y-axis output\n",
    "#plt.ylim([80.9,84.75])\n",
    "plt.legend(loc='upper right')   #adding a legend\n",
    "#plt.savefig('/home/cristopher/Pictures/FIGURES_EPS/pressure_drop_adjoint_design.pdf', format='pdf', transparent=True, dpi=1200)\n",
    "plt.show()"
   ]
  },
  {
   "cell_type": "code",
   "execution_count": 12,
   "id": "30553e91-db71-4ba5-add2-a7d25f7c297e",
   "metadata": {},
   "outputs": [
    {
     "data": {
      "image/png": "[encoded data removed]",
      "text/plain": [
       "<Figure size 576x432 with 1 Axes>"
      ]
     },
     "metadata": {
      "needs_background": "light"
     },
     "output_type": "display_data"
    }
   ],
   "source": [
    "x1=[]\n",
    "y1=[]\n",
    "phi=0.5\n",
    "for i in range(0,41):\n",
    "    T=300+10*i\n",
    "    x1.append(T)\n",
    "    y1.append(beta_terms(T,phi)[1])\n",
    "plt.figure(figsize=(8,6))\n",
    "plt.rcParams['font.size'] = '16'\n",
    "plt.plot(x1, y1,'ro',markersize=12, label='beta thermal')#plotting predictions\n",
    "#plt.title('Adjoint design optimization') #defining titles\n",
    "plt.xlabel('Temperature [K]')             #defining x-axis scaled progress variable\n",
    "plt.ylabel('$b_{h2}$ [J/K]')       #y-axis output\n",
    "#plt.ylim([80.9,84.75])\n",
    "plt.legend(loc='upper right')   #adding a legend\n",
    "#plt.savefig('/home/cristopher/Pictures/FIGURES_EPS/pressure_drop_adjoint_design.pdf', format='pdf', transparent=True, dpi=1200)\n",
    "plt.show()"
   ]
  },
  {
   "cell_type": "code",
   "execution_count": null,
   "id": "d302409f-6980-4c51-b71c-dec72de17cee",
   "metadata": {},
   "outputs": [],
   "source": []
  }
 ],
 "metadata": {
  "kernelspec": {
   "display_name": "Python 3 (ipykernel)",
   "language": "python",
   "name": "python3"
  },
  "language_info": {
   "codemirror_mode": {
    "name": "ipython",
    "version": 3
   },
   "file_extension": ".py",
   "mimetype": "text/x-python",
   "name": "python",
   "nbconvert_exporter": "python",
   "pygments_lexer": "ipython3",
   "version": "3.9.12"
  }
 },
 "nbformat": 4,
 "nbformat_minor": 5
}
