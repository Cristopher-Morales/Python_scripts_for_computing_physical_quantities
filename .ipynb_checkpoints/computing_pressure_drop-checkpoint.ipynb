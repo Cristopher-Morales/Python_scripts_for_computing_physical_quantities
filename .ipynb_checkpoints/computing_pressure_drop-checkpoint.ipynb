{
 "cells": [
  {
   "cell_type": "markdown",
   "id": "c3866f5d-7efa-46c4-9c90-3ef01b9637f6",
   "metadata": {},
   "source": [
    "# Code for pressure drop after adjoint design optimization from .csv file obtained from Paraview"
   ]
  },
  {
   "cell_type": "code",
   "execution_count": 1,
   "id": "d723370e-6c1d-4151-9769-ee340f4bd012",
   "metadata": {},
   "outputs": [],
   "source": [
    "import os\n",
    "import pandas as pd\n",
    "from csv import reader  # for reading csv files\n",
    "from csv import writer  # for writing csv files"
   ]
  },
  {
   "cell_type": "code",
   "execution_count": 2,
   "id": "c84daec4-74ee-420b-8774-8d043e260e9a",
   "metadata": {},
   "outputs": [],
   "source": [
    "def sort(x,y):\n",
    "    for i in range(len(x)):\n",
    "         for j in range(i + 1, len(x)):\n",
    "             if x[i] >x[j]:\n",
    "                x[i], x[j] = x[j], x[i]\n",
    "                y[i], y[j] = y[j], y[i]"
   ]
  },
  {
   "cell_type": "code",
   "execution_count": 3,
   "id": "6c252aab-3c54-4d80-8b29-1a94716261f2",
   "metadata": {},
   "outputs": [],
   "source": [
    "def compute_pressure_drop(case):\n",
    "    x_inlets = []\n",
    "    x_outlets = []\n",
    "    pressure_inlets =[]\n",
    "    pressure_outlets =[]\n",
    "    for folders in os.listdir('/home/cristopher/Desktop/Documentation/results_optimization/'+case+'/pressure'):\n",
    "        x= str(folders)\n",
    "        if (x.split(\"_\")[1]==\"inlet\"):\n",
    "            df=pd.read_csv('/home/cristopher/Desktop/Documentation/results_optimization/'+case+'/pressure/'+x,header=None).values #[1:,23]\n",
    "            for i in range(0,df.shape[1]):\n",
    "                if df[0,i]=='Surface_Total_Pressure_Inlet':\n",
    "                    #print(df[1,int(i)])\n",
    "                    x_inlets.append(int(x.split(\"_\")[2].split(\".\")[0]))\n",
    "                    pressure_inlets.append(float(df[1,int(i)]))\n",
    "        if (x.split(\"_\")[1]==\"outlet\"):\n",
    "            df=pd.read_csv('/home/cristopher/Desktop/Documentation/results_optimization/'+case+'/pressure/'+x,header=None).values #[1:,23]\n",
    "            for i in range(0,df.shape[1]):\n",
    "                if df[0,i]=='Surface_Total_Pressure_Outlet':\n",
    "                #print(df[1,int(i)])\n",
    "                    x_outlets.append(int(x.split(\"_\")[2].split(\".\")[0]))\n",
    "                    pressure_outlets.append(float(df[1,int(i)]))\n",
    "    \n",
    "    #print(x_inlets)\n",
    "    #print(x_outlets)\n",
    "    #print(pressure_inlets)\n",
    "    #print(pressure_outlets)                \n",
    "    sort(x_inlets,pressure_inlets)\n",
    "    sort(x_outlets,pressure_outlets)\n",
    "    #print(x_inlets)\n",
    "    #print(x_outlets)\n",
    "    #print(pressure_inlets)\n",
    "    #print(pressure_outlets)\n",
    "    pressure_drop =[]\n",
    "    with open('/home/cristopher/Desktop/Documentation/results_optimization/'+case+'/pressure_drop.csv', 'w', newline='\\n') as write_obj:\n",
    "        writer(write_obj).writerow(['Iteration','Pressure Drop'])\n",
    "        for i in range(0,len(pressure_outlets)):\n",
    "            writer(write_obj).writerow([x_outlets[i],float(pressure_inlets[i]-pressure_outlets[i])])    "
   ]
  },
  {
   "cell_type": "code",
   "execution_count": 4,
   "id": "8ef5a865-bc0f-4a3e-a3ca-540288cecac3",
   "metadata": {},
   "outputs": [],
   "source": [
    "compute_pressure_drop('kenics_mixer_optimization_two_boxes_without_edges_double_points_45_4_constraint')"
   ]
  },
  {
   "cell_type": "markdown",
   "id": "ee6473ce-4b79-46bb-b10c-cc23111a5484",
   "metadata": {},
   "source": [
    "computing covariance"
   ]
  },
  {
   "cell_type": "code",
   "execution_count": 5,
   "id": "89d09e79-14f0-4321-9983-279cd0b68f3d",
   "metadata": {},
   "outputs": [],
   "source": [
    "def compute_covariance(case):\n",
    "    directory = '/home/cristopher/Desktop/Documentation/Simulations/SU2_TUTORIAL_TRANSPORT_PROPERTIES/'+case+'/optimization/'\n",
    "    x_position =[]\n",
    "    covariance = []\n",
    "    for folders in os.listdir(directory):\n",
    "        x = str(folders)\n",
    "        if (x.split(\"_\")[0]==\"DSN\"):\n",
    "            # int(directory+x+'/DIRECT/history.csv')\n",
    "            df = pd.read_csv(directory+x+'/DIRECT/history.csv', header=None).values\n",
    "            #rint(df.shape)\n",
    "            for i in range(0, df.shape[1]):\n",
    "                if df[0,i]=='Avg_Species_0(outlet)':\n",
    "                    mean = float(df[df.shape[0]-1,i])\n",
    "                if df[0,i]=='Species_Variance(outlet)':\n",
    "                    variance = float(df[df.shape[0]-1,i])\n",
    "            covariance.append(float(variance/mean))\n",
    "            x_position.append(int(x.split(\"_\")[1]))\n",
    "    sort(x_position,covariance)\n",
    "    with open('/home/cristopher/Desktop/Documentation/results_optimization/'+case+'/COV.csv', 'w', newline='\\n') as write_obj:\n",
    "        writer(write_obj).writerow(['Iteration','COV'])\n",
    "        for i in range(0,len(covariance)):\n",
    "            writer(write_obj).writerow([x_position[i],float(covariance[i])]) \n",
    "    print(covariance)                   "
   ]
  },
  {
   "cell_type": "code",
   "execution_count": 4,
   "id": "c240b7d4-0592-432a-81ef-925248d35973",
   "metadata": {
    "tags": []
   },
   "outputs": [
    {
     "name": "stdout",
     "output_type": "stream",
     "text": [
      "/home/cristopher/Desktop/Documentation/Simulations/SU2_TUTORIAL_TRANSPORT_PROPERTIES\n"
     ]
    },
    {
     "data": {
      "text/plain": [
       "str"
      ]
     },
     "execution_count": 4,
     "metadata": {},
     "output_type": "execute_result"
    }
   ],
   "source": [
    "current_directory = os.getcwd()\n",
    "print(current_directory)\n",
    "type(current_directory)"
   ]
  },
  {
   "cell_type": "code",
   "execution_count": 6,
   "id": "448cc6ed-5859-48b6-ba7b-f3c9ec2afb19",
   "metadata": {},
   "outputs": [
    {
     "name": "stdout",
     "output_type": "stream",
     "text": [
      "[0.00012235096206411012, 0.00011813639561252571, 9.96274587853016e-05, 8.268391143760002e-05, 7.428969842456202e-05, 6.89770691154697e-05, 6.497379614878307e-05, 6.14478717739873e-05, 5.862832471942503e-05, 5.6376622675409495e-05, 5.4208297393376005e-05, 5.2284775278945815e-05, 5.075952331264868e-05, 4.947199090353214e-05, 4.8283562286977496e-05, 4.728870077624357e-05, 4.641615705753236e-05, 4.55489467377129e-05, 4.47525418858892e-05, 4.404707462094653e-05, 4.339607518859434e-05, 4.279186359477336e-05, 4.298788908653049e-05, 4.288516578388992e-05, 4.2836226742534275e-05, 4.281295719687086e-05, 4.280189121379942e-05, 4.279663027536183e-05, 4.279412947014176e-05, 4.279294070473432e-05, 4.2792375615614654e-05, 4.279210698725961e-05]\n"
     ]
    }
   ],
   "source": [
    "compute_covariance('kenics_mixer_optimization_two_boxes_without_edges_double_points_45_4')"
   ]
  }
 ],
 "metadata": {
  "kernelspec": {
   "display_name": "Python 3 (ipykernel)",
   "language": "python",
   "name": "python3"
  },
  "language_info": {
   "codemirror_mode": {
    "name": "ipython",
    "version": 3
   },
   "file_extension": ".py",
   "mimetype": "text/x-python",
   "name": "python",
   "nbconvert_exporter": "python",
   "pygments_lexer": "ipython3",
   "version": "3.9.12"
  }
 },
 "nbformat": 4,
 "nbformat_minor": 5
}
